{
 "cells": [
  {
   "cell_type": "code",
   "execution_count": 1,
   "metadata": {},
   "outputs": [
    {
     "name": "stdout",
     "output_type": "stream",
     "text": [
      "Artemis Rover Rock Scanner Starting\n"
     ]
    }
   ],
   "source": [
    "print(\"Artemis Rover Rock Scanner Starting\")\n"
   ]
  },
  {
   "cell_type": "code",
   "execution_count": 2,
   "metadata": {},
   "outputs": [],
   "source": [
    "# Create Variables for rock types\n",
    "basalt = 0\n",
    "breccia = 0\n",
    "highland = 0\n",
    "regolith = 0\n",
    "\n",
    "# Create a List for rock list\n",
    "rockList = []\n"
   ]
  },
  {
   "cell_type": "code",
   "execution_count": 3,
   "metadata": {},
   "outputs": [],
   "source": [
    "# Create a file we can use to read in the data and read in the data\n",
    "\n",
    "# Specify the variable for the path/name to named text file we'll read from  \n",
    "strPath = \"rocks.txt\"\n",
    "\n",
    "# Open the file\n",
    "fileObject = open(strPath, \"w\")\n",
    "\n",
    "# Write the line of text to the file\n",
    "fileObject.writelines([\"Reading Rocks\\n\",\"basalt\\n\",\"breccia\\n\",\"highland\\n\",\"regolith\\n\",\"highland\\n\",\"breccia\\n\",\"highland\\n\",\"regolith\\n\",\"regolith\\n\",\"basalt\\n\",\"highland\\n\",\"basalt\\n\",\"breccia\\n\",\"breccia\\n\",\"regolith\\n\",\"breccia\\n\",\"highland\\n\",\"highland\\n\",\"breccia\\n\",\"basalt\\n\"])\n",
    "\n",
    "# Close the file\n",
    "fileObject.close()"
   ]
  },
  {
   "cell_type": "code",
   "execution_count": 4,
   "metadata": {},
   "outputs": [
    {
     "name": "stdout",
     "output_type": "stream",
     "text": [
      "Reading Rocks\n",
      "\n"
     ]
    }
   ],
   "source": [
    "# Now that we have some variables made, we can start giving these variables values. \n",
    "# We want to count the number of times we see each type of rock in the rocks.txt file and add that to the corresponding variable. \n",
    "# For ex, if there are 12 basalt rocks in the text file, then we'll want the basalt variable to be set to 12.\n",
    "# Let's start by telling the computer to read in the rocks.txt file. To do this, run the code below. \n",
    "# The readline function reads the first line, which is indicates we are starting to read the rocks that are written in the file.\n",
    "\n",
    "# Path to our file\n",
    "strPath = \"rocks.txt\"\n",
    "\n",
    "# Open the file\n",
    "fileObject = open(strPath)\n",
    "\n",
    "# Read one line (the first line) of the and assign them to var line.  A loop is required to read all lines.\n",
    "firstline = fileObject.readline()\n",
    "\n",
    "print(firstline)\n"
   ]
  },
  {
   "cell_type": "code",
   "execution_count": 5,
   "metadata": {},
   "outputs": [
    {
     "name": "stdout",
     "output_type": "stream",
     "text": [
      "basalt\n",
      "\n",
      "breccia\n",
      "\n",
      "highland\n",
      "\n",
      "regolith\n",
      "\n",
      "highland\n",
      "\n",
      "breccia\n",
      "\n",
      "highland\n",
      "\n",
      "regolith\n",
      "\n",
      "regolith\n",
      "\n",
      "basalt\n",
      "\n",
      "highland\n",
      "\n",
      "basalt\n",
      "\n",
      "breccia\n",
      "\n",
      "breccia\n",
      "\n",
      "regolith\n",
      "\n",
      "breccia\n",
      "\n",
      "highland\n",
      "\n",
      "highland\n",
      "\n",
      "breccia\n",
      "\n",
      "basalt\n",
      "\n"
     ]
    }
   ],
   "source": [
    "# Call the readlines() function to put all of the lines into our rockList variable.\n",
    "# Print all of the rocks that are in the rockList and close the fileObject.\n",
    "\n",
    "rockList = fileObject.readlines()\n",
    "\n",
    "for rock in rockList:\n",
    "    print(rock)\n",
    "\n",
    "# Close the file\n",
    "fileObject.close()"
   ]
  },
  {
   "cell_type": "code",
   "execution_count": 6,
   "metadata": {},
   "outputs": [],
   "source": [
    "# Create a function to count types of Moon rocks found\n",
    "\n",
    "def countMoonRocks(rockToID):\n",
    "    global basalt\n",
    "    global breccia\n",
    "    global highland\n",
    "    global regolith\n",
    "\n",
    "    rockToID = rockToID.lower()\n",
    "\n",
    "    if(\"basalt\" in rockToID):\n",
    "        print(\"Found a basalt\\n\")\n",
    "        basalt += 1\n",
    "\n",
    "    elif(\"breccia\" in rockToID):\n",
    "        print(\"Found a breccia\\n\")\n",
    "        breccia += 1\n",
    "    \n",
    "    elif(\"highland\" in rockToID):\n",
    "        print(\"Found a highland\\n\")\n",
    "        highland += 1\n",
    "    \n",
    "    elif(\"regolith\" in rockToID):\n",
    "        print(\"Found a regolith\\n\")\n",
    "        regolith += 1\n",
    "        \n",
    "    return"
   ]
  },
  {
   "cell_type": "code",
   "execution_count": 7,
   "metadata": {},
   "outputs": [
    {
     "name": "stdout",
     "output_type": "stream",
     "text": [
      "Found a basalt\n",
      "\n",
      "Found a breccia\n",
      "\n",
      "Found a highland\n",
      "\n",
      "Found a regolith\n",
      "\n",
      "Found a highland\n",
      "\n",
      "Found a breccia\n",
      "\n",
      "Found a highland\n",
      "\n",
      "Found a regolith\n",
      "\n",
      "Found a regolith\n",
      "\n",
      "Found a basalt\n",
      "\n",
      "Found a highland\n",
      "\n",
      "Found a basalt\n",
      "\n",
      "Found a breccia\n",
      "\n",
      "Found a breccia\n",
      "\n",
      "Found a regolith\n",
      "\n",
      "Found a breccia\n",
      "\n",
      "Found a highland\n",
      "\n",
      "Found a highland\n",
      "\n",
      "Found a breccia\n",
      "\n",
      "Found a basalt\n",
      "\n"
     ]
    }
   ],
   "source": [
    "# Count the number of Moon rocks by calling a Python function\n",
    "# Create a loop to go through every rock in the list and count it\n",
    "# This code calls the function that we've created for each line of text (each rock) that was reported by the rover. \n",
    "# The function adds to the count for the corresponding type of rock and stores this number in the respective variable.\n",
    "\n",
    "for rock in rockList:\n",
    "    countMoonRocks(rock)\n",
    "    "
   ]
  },
  {
   "cell_type": "code",
   "execution_count": 8,
   "metadata": {},
   "outputs": [
    {
     "name": "stdout",
     "output_type": "stream",
     "text": [
      "Number of Basalt rocks: 4\n",
      "Number of Breccia rocks: 6\n",
      "Number of Highland rocks: 6\n",
      "Number of Regolith rocks: 4\n"
     ]
    }
   ],
   "source": [
    "# Print the number of each type of rock we found. \n",
    "# Print the number of basalt rocks, run this code cell:\n",
    "\n",
    "print(\"Number of Basalt rocks:\", basalt)\n",
    "print(\"Number of Breccia rocks:\", breccia)\n",
    "print(\"Number of Highland rocks:\", highland)\n",
    "print(\"Number of Regolith rocks:\", regolith)\n"
   ]
  },
  {
   "cell_type": "code",
   "execution_count": 9,
   "metadata": {},
   "outputs": [
    {
     "name": "stdout",
     "output_type": "stream",
     "text": [
      "The MAX number of one type of rock found was: 6\n",
      "The MINIMUM number of one type of rock found was: 4\n"
     ]
    }
   ],
   "source": [
    "# Print the min and max of the type of rock found\n",
    "# Add other rock types to the \"max\" and \"min\" function calls\n",
    "\n",
    "print(\"The MAX number of one type of rock found was:\", max(basalt, breccia, highland, regolith))\n",
    "print(\"The MINIMUM number of one type of rock found was:\", min(basalt,  breccia, highland, regolith))"
   ]
  }
 ],
 "metadata": {
  "kernelspec": {
   "display_name": "Python 3",
   "language": "python",
   "name": "python3"
  },
  "language_info": {
   "codemirror_mode": {
    "name": "ipython",
    "version": 3
   },
   "file_extension": ".py",
   "mimetype": "text/x-python",
   "name": "python",
   "nbconvert_exporter": "python",
   "pygments_lexer": "ipython3",
   "version": "3.11.5"
  },
  "orig_nbformat": 4
 },
 "nbformat": 4,
 "nbformat_minor": 2
}
